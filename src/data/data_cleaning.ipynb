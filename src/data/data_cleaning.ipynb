{
 "cells": [
  {
   "cell_type": "code",
   "execution_count": 31,
   "id": "8790a125",
   "metadata": {},
   "outputs": [],
   "source": [
    "import pandas as pd\n",
    "import csv\n",
    "import json"
   ]
  },
  {
   "cell_type": "code",
   "execution_count": 32,
   "id": "7783c809",
   "metadata": {},
   "outputs": [],
   "source": [
    "df5 = pd.read_csv(\"2015.csv\")\n",
    "df6 = pd.read_csv(\"2016.csv\")\n",
    "df7 = pd.read_csv(\"2017.csv\")\n",
    "df8 = pd.read_csv(\"2018.csv\")\n",
    "df9 = pd.read_csv(\"2019.csv\")\n",
    "df0 = pd.read_csv(\"2020.csv\")\n",
    "df1 = pd.read_csv(\"2021.csv\")\n",
    "df2 = pd.read_csv(\"2022.csv\")"
   ]
  },
  {
   "cell_type": "code",
   "execution_count": 33,
   "id": "fb4577ca",
   "metadata": {},
   "outputs": [
    {
     "name": "stdout",
     "output_type": "stream",
     "text": [
      "{'Switzerland': 'Western Europe', 'Iceland': 'Western Europe', 'Denmark': 'Western Europe', 'Norway': 'Western Europe', 'Canada': 'North America', 'Finland': 'Western Europe', 'Netherlands': 'Western Europe', 'Sweden': 'Western Europe', 'New Zealand': 'Australia and New Zealand', 'Australia': 'Australia and New Zealand', 'Israel': 'Middle East and Northern Africa', 'Costa Rica': 'Latin America and Caribbean', 'Austria': 'Western Europe', 'Mexico': 'Latin America and Caribbean', 'United States': 'North America', 'Brazil': 'Latin America and Caribbean', 'Luxembourg': 'Western Europe', 'Ireland': 'Western Europe', 'Belgium': 'Western Europe', 'United Arab Emirates': 'Middle East and Northern Africa', 'United Kingdom': 'Western Europe', 'Venezuela': 'Latin America and Caribbean', 'Singapore': 'Southeastern Asia', 'Panama': 'Latin America and Caribbean', 'Germany': 'Western Europe', 'Chile': 'Latin America and Caribbean', 'France': 'Western Europe', 'Argentina': 'Latin America and Caribbean', 'Czech Republic': 'Central and Eastern Europe', 'Uruguay': 'Latin America and Caribbean', 'Colombia': 'Latin America and Caribbean', 'Thailand': 'Southeastern Asia', 'Saudi Arabia': 'Middle East and Northern Africa', 'Spain': 'Western Europe', 'Malta': 'Western Europe', 'Kuwait': 'Middle East and Northern Africa', 'El Salvador': 'Latin America and Caribbean', 'Guatemala': 'Latin America and Caribbean', 'Uzbekistan': 'Central and Eastern Europe', 'Slovakia': 'Central and Eastern Europe', 'Japan': 'Eastern Asia', 'South Korea': 'Eastern Asia', 'Ecuador': 'Latin America and Caribbean', 'Bahrain': 'Middle East and Northern Africa', 'Italy': 'Western Europe', 'Bolivia': 'Latin America and Caribbean', 'Moldova': 'Central and Eastern Europe', 'Paraguay': 'Latin America and Caribbean', 'Kazakhstan': 'Central and Eastern Europe', 'Slovenia': 'Central and Eastern Europe', 'Lithuania': 'Central and Eastern Europe', 'Nicaragua': 'Latin America and Caribbean', 'Peru': 'Latin America and Caribbean', 'Belarus': 'Central and Eastern Europe', 'Poland': 'Central and Eastern Europe', 'Malaysia': 'Southeastern Asia', 'Croatia': 'Central and Eastern Europe', 'Libya': 'Middle East and Northern Africa', 'Russia': 'Central and Eastern Europe', 'Jamaica': 'Latin America and Caribbean', 'Cyprus': 'Western Europe', 'Algeria': 'Middle East and Northern Africa', 'Kosovo': 'Central and Eastern Europe', 'Turkmenistan': 'Central and Eastern Europe', 'Mauritius': 'Sub-Saharan Africa', 'Estonia': 'Central and Eastern Europe', 'Indonesia': 'Southeastern Asia', 'Vietnam': 'Southeastern Asia', 'Turkey': 'Middle East and Northern Africa', 'Kyrgyzstan': 'Central and Eastern Europe', 'Nigeria': 'Sub-Saharan Africa', 'Azerbaijan': 'Central and Eastern Europe', 'Pakistan': 'Southern Asia', 'Jordan': 'Middle East and Northern Africa', 'Montenegro': 'Central and Eastern Europe', 'China': 'Eastern Asia', 'Zambia': 'Sub-Saharan Africa', 'Romania': 'Central and Eastern Europe', 'Serbia': 'Central and Eastern Europe', 'Portugal': 'Western Europe', 'Latvia': 'Central and Eastern Europe', 'Philippines': 'Southeastern Asia', 'Morocco': 'Middle East and Northern Africa', 'Albania': 'Central and Eastern Europe', 'Bosnia and Herzegovina': 'Central and Eastern Europe', 'Dominican Republic': 'Latin America and Caribbean', 'Mongolia': 'Eastern Asia', 'Greece': 'Western Europe', 'Lebanon': 'Middle East and Northern Africa', 'Hungary': 'Central and Eastern Europe', 'Honduras': 'Latin America and Caribbean', 'Tajikistan': 'Central and Eastern Europe', 'Tunisia': 'Middle East and Northern Africa', 'Palestinian Territories': 'Middle East and Northern Africa', 'Bangladesh': 'Southern Asia', 'Iran': 'Middle East and Northern Africa', 'Ukraine': 'Central and Eastern Europe', 'Iraq': 'Middle East and Northern Africa', 'South Africa': 'Sub-Saharan Africa', 'Ghana': 'Sub-Saharan Africa', 'Zimbabwe': 'Sub-Saharan Africa', 'Liberia': 'Sub-Saharan Africa', 'India': 'Southern Asia', 'Haiti': 'Latin America and Caribbean', 'Nepal': 'Southern Asia', 'Ethiopia': 'Sub-Saharan Africa', 'Sierra Leone': 'Sub-Saharan Africa', 'Mauritania': 'Sub-Saharan Africa', 'Kenya': 'Sub-Saharan Africa', 'Armenia': 'Central and Eastern Europe', 'Botswana': 'Sub-Saharan Africa', 'Myanmar': 'Southeastern Asia', 'Georgia': 'Central and Eastern Europe', 'Malawi': 'Sub-Saharan Africa', 'Sri Lanka': 'Southern Asia', 'Cameroon': 'Sub-Saharan Africa', 'Bulgaria': 'Central and Eastern Europe', 'Egypt': 'Middle East and Northern Africa', 'Yemen': 'Middle East and Northern Africa', 'Mali': 'Sub-Saharan Africa', 'Congo (Brazzaville)': 'Sub-Saharan Africa', 'Uganda': 'Sub-Saharan Africa', 'Senegal': 'Sub-Saharan Africa', 'Gabon': 'Sub-Saharan Africa', 'Niger': 'Sub-Saharan Africa', 'Cambodia': 'Southeastern Asia', 'Tanzania': 'Sub-Saharan Africa', 'Madagascar': 'Sub-Saharan Africa', 'Chad': 'Sub-Saharan Africa', 'Guinea': 'Sub-Saharan Africa', 'Ivory Coast': 'Sub-Saharan Africa', 'Burkina Faso': 'Sub-Saharan Africa', 'Afghanistan': 'Southern Asia', 'Rwanda': 'Sub-Saharan Africa', 'Benin': 'Sub-Saharan Africa', 'Burundi': 'Sub-Saharan Africa', 'Togo': 'Sub-Saharan Africa'}\n"
     ]
    }
   ],
   "source": [
    "regionMap = {}\n",
    "for index, row in df5.iterrows():\n",
    "    c = row[\"Country\"]\n",
    "    r = row[\"Region\"]\n",
    "    regionMap.update({c:r})\n",
    "for index, row in df6.iterrows():\n",
    "    c = row[\"Country\"]\n",
    "    r = row[\"Region\"]\n",
    "    regionMap.update({c:r})\n",
    "    \n",
    "print(regionMap)"
   ]
  },
  {
   "cell_type": "code",
   "execution_count": 34,
   "id": "0bf87935",
   "metadata": {},
   "outputs": [
    {
     "data": {
      "text/plain": [
       "'\\nregionMap.update({\"Taiwan Province of China\":\"Eastern Asia\"})\\nregionMap.update({\"Hong Kong S.A.R., China\":\"Eastern Asia\"})\\nregionMap.update({\"Trinidad & Tobago\":\"Latin America and Caribbean\"})\\nregionMap.update({\"Northern Cyprus\":\"Central and Eastern Europe\"})\\nregionMap.update({\"North Macedonia\":\"Central and Eastern Europe\"})\\nregionMap.update({\"Gambia\":\"Sub-Saharan Africa\"})\\nregionMap.update({\"Hong Kong S.A.R. of China\":\"Eastern Asia\"})\\nregionMap.update({\"Maldives\":\"Sub-Saharan Africa\"})\\nregionMap.update({\"Luxembourg*\":\"Western Europe\"})\\nregionMap.update({\"Congo\":\"Sub-Saharan Africa\"})\\nregionMap.update({\"Eswatini, Kingdom of\":\"Sub-Saharan Africa\"})\\nregionMap.update({\"Czechia\":\"Central and Eastern Europe\"})\\n'"
      ]
     },
     "execution_count": 34,
     "metadata": {},
     "output_type": "execute_result"
    }
   ],
   "source": [
    "# add missing regions\n",
    "'''\n",
    "regionMap.update({\"Taiwan Province of China\":\"Eastern Asia\"})\n",
    "regionMap.update({\"Hong Kong S.A.R., China\":\"Eastern Asia\"})\n",
    "regionMap.update({\"Trinidad & Tobago\":\"Latin America and Caribbean\"})\n",
    "regionMap.update({\"Northern Cyprus\":\"Central and Eastern Europe\"})\n",
    "regionMap.update({\"North Macedonia\":\"Central and Eastern Europe\"})\n",
    "regionMap.update({\"Gambia\":\"Sub-Saharan Africa\"})\n",
    "regionMap.update({\"Hong Kong S.A.R. of China\":\"Eastern Asia\"})\n",
    "regionMap.update({\"Maldives\":\"Sub-Saharan Africa\"})\n",
    "regionMap.update({\"Luxembourg*\":\"Western Europe\"})\n",
    "regionMap.update({\"Congo\":\"Sub-Saharan Africa\"})\n",
    "regionMap.update({\"Eswatini, Kingdom of\":\"Sub-Saharan Africa\"})\n",
    "regionMap.update({\"Czechia\":\"Central and Eastern Europe\"})\n",
    "'''"
   ]
  },
  {
   "cell_type": "code",
   "execution_count": 35,
   "id": "a30f3e78",
   "metadata": {},
   "outputs": [],
   "source": [
    "df7[\"Region\"] = df7[\"Country\"].apply(lambda x: regionMap[x])\n",
    "df8[\"Region\"] = df8[\"Country \"].apply(lambda x: regionMap[x])\n",
    "df9[\"Region\"] = df9[\"Country\"].apply(lambda x: regionMap[x])\n",
    "df0[\"Region\"] = df0[\"Country \"].apply(lambda x: regionMap[x])\n",
    "df1[\"Region\"] = df1[\"Country\"].apply(lambda x: regionMap[x])"
   ]
  },
  {
   "cell_type": "code",
   "execution_count": 36,
   "id": "fc9dd97c",
   "metadata": {},
   "outputs": [
    {
     "name": "stdout",
     "output_type": "stream",
     "text": [
      "['Australia and New Zealand', 'Central and Eastern Europe', 'Eastern Asia', 'Latin America and Caribbean', 'Middle East and Northern Africa', 'North America', 'Southeastern Asia', 'Southern Asia', 'Sub-Saharan Africa', 'Western Europe']\n",
      "['Australia and New Zealand', 'Central and Eastern Europe', 'Eastern Asia', 'Latin America and Caribbean', 'Middle East and Northern Africa', 'North America', 'Southeastern Asia', 'Southern Asia', 'Sub-Saharan Africa', 'Western Europe']\n",
      "['Australia and New Zealand', 'Central and Eastern Europe', 'Eastern Asia', 'Latin America and Caribbean', 'Middle East and Northern Africa', 'North America', 'Southeastern Asia', 'Southern Asia', 'Sub-Saharan Africa', 'Western Europe']\n",
      "['Australia and New Zealand', 'Central and Eastern Europe', 'Eastern Asia', 'Latin America and Caribbean', 'Middle East and Northern Africa', 'North America', 'Southeastern Asia', 'Southern Asia', 'Sub-Saharan Africa', 'Western Europe']\n",
      "['Australia and New Zealand', 'Central and Eastern Europe', 'Eastern Asia', 'Latin America and Caribbean', 'Middle East and Northern Africa', 'North America', 'Southeastern Asia', 'Southern Asia', 'Sub-Saharan Africa', 'Western Europe']\n",
      "['Australia and New Zealand', 'Central and Eastern Europe', 'Eastern Asia', 'Latin America and Caribbean', 'Middle East and Northern Africa', 'North America', 'Southeastern Asia', 'Southern Asia', 'Sub-Saharan Africa', 'Western Europe']\n",
      "['Australia and New Zealand', 'Central and Eastern Europe', 'Eastern Asia', 'Latin America and Caribbean', 'Middle East and Northern Africa', 'North America', 'Southeastern Asia', 'Southern Asia', 'Sub-Saharan Africa', 'Western Europe']\n"
     ]
    }
   ],
   "source": [
    "print(sorted(df5.Region.unique()))\n",
    "print(sorted(df6.Region.unique()))\n",
    "print(sorted(df7.Region.unique()))\n",
    "print(sorted(df8.Region.unique()))\n",
    "print(sorted(df9.Region.unique()))\n",
    "print(sorted(df0.Region.unique()))\n",
    "print(sorted(df1.Region.unique()))"
   ]
  },
  {
   "cell_type": "code",
   "execution_count": 37,
   "id": "7b2fd0d8",
   "metadata": {},
   "outputs": [
    {
     "name": "stdout",
     "output_type": "stream",
     "text": [
      "['Australia and New Zealand', 'Central and Eastern Europe', 'Eastern Asia', 'Latin America and Caribbean', 'Middle East and Northern Africa', 'North America', 'Southeastern Asia', 'Southern Asia', 'Sub-Saharan Africa', 'Western Europe']\n"
     ]
    }
   ],
   "source": [
    "regionList = sorted(df5.Region.unique())\n",
    "print(regionList)"
   ]
  },
  {
   "cell_type": "code",
   "execution_count": 40,
   "id": "50e183c3",
   "metadata": {},
   "outputs": [
    {
     "name": "stdout",
     "output_type": "stream",
     "text": [
      "-------- Australia and New Zealand ----------\n",
      "7.285\n",
      "7.323499999999999\n",
      "7.299000025\n",
      "7.298\n",
      "7.2675\n",
      "7.261199951\n",
      "7.23\n",
      "-------- Central and Eastern Europe ----------\n",
      "5.344571428571428\n",
      "5.379607142857145\n",
      "5.4183214222142855\n",
      "5.473928571428572\n",
      "5.571785714285713\n",
      "5.684471419857142\n",
      "5.794428571428571\n",
      "-------- Eastern Asia ----------\n",
      "5.49625\n",
      "5.477\n",
      "5.4964998959999996\n",
      "5.54025\n",
      "5.5642499999999995\n",
      "5.58082497125\n",
      "5.7002500000000005\n",
      "-------- Latin America and Caribbean ----------\n",
      "6.1373\n",
      "6.0505\n",
      "5.94740000965\n",
      "5.937749999999999\n",
      "5.942549999999999\n",
      "5.9712800025999995\n",
      "5.908049999999999\n",
      "-------- Middle East and Northern Africa ----------\n",
      "5.392235294117647\n",
      "5.464176470588236\n",
      "5.422764693941176\n",
      "5.325647058823528\n",
      "5.274529411764705\n",
      "5.227158855058825\n",
      "5.219764705882353\n",
      "-------- North America ----------\n",
      "7.273\n",
      "7.254\n",
      "7.154500008\n",
      "7.107\n",
      "7.085\n",
      "7.0858500005\n",
      "7.026999999999999\n",
      "-------- Southeastern Asia ----------\n",
      "5.372625000000001\n",
      "5.396749999999999\n",
      "5.444875001875\n",
      "5.399749999999999\n",
      "5.333375\n",
      "5.445212543\n",
      "5.45475\n",
      "-------- Southern Asia ----------\n",
      "4.468833333333333\n",
      "4.457833333333333\n",
      "4.564666628666667\n",
      "4.524166666666667\n",
      "4.434333333333333\n",
      "4.355083266833334\n",
      "4.315833333333333\n",
      "-------- Sub-Saharan Africa ----------\n",
      "4.107200000000001\n",
      "4.068266666666665\n",
      "4.1261666536\n",
      "4.248066666666667\n",
      "4.379066666666665\n",
      "4.4719333172\n",
      "4.509100000000001\n",
      "-------- Western Europe ----------\n",
      "6.73935\n",
      "6.731399999999999\n",
      "6.74840002065\n",
      "6.829100000000001\n",
      "6.8984000000000005\n",
      "6.967404985450001\n",
      "6.983850000000001\n"
     ]
    }
   ],
   "source": [
    "# average happiness score by region\n",
    "for region in regionList:\n",
    "    print(\"--------\", region, \"----------\")\n",
    "    d5 = df5[df5[\"Region\"] == region]\n",
    "    #print(d5)\n",
    "    l5 = d5[\"Happiness Score\"].to_list()\n",
    "    ave5 = sum(l5)/len(l5)\n",
    "    print(ave5)\n",
    "    \n",
    "    d6 = df6[df6[\"Region\"] == region]\n",
    "    l6 = d6[\"Happiness Score\"].to_list()\n",
    "    ave6 = sum(l6)/len(l6)\n",
    "    print(ave6)\n",
    "    \n",
    "    d7 = df7[df7[\"Region\"] == region]\n",
    "    l7 = d7[\"Happiness Score\"].to_list()\n",
    "    ave7 = sum(l7)/len(l7)\n",
    "    print(ave7)\n",
    "    \n",
    "    d8 = df8[df8[\"Region\"] == region]\n",
    "    l8 = d8[\"Happiness Score\"].to_list()\n",
    "    ave8 = sum(l8)/len(l8)\n",
    "    print(ave8)\n",
    "    \n",
    "    d9 = df9[df9[\"Region\"] == region]\n",
    "    l9 = d9[\"Happiness Score\"].to_list()\n",
    "    ave9 = sum(l9)/len(l9)\n",
    "    print(ave9)\n",
    "    \n",
    "    d0 = df0[df0[\"Region\"] == region]\n",
    "    l0 = d0[\"Happiness Score\"].to_list()\n",
    "    ave0 = sum(l0)/len(l0)\n",
    "    print(ave0)\n",
    "    \n",
    "    d1 = df1[df1[\"Region\"] == region]\n",
    "    l1 = d1[\"Happiness Score\"].to_list()\n",
    "    ave1 = sum(l1)/len(l1)\n",
    "    print(ave1)\n"
   ]
  },
  {
   "cell_type": "code",
   "execution_count": 57,
   "id": "c08c6d74",
   "metadata": {},
   "outputs": [
    {
     "name": "stdout",
     "output_type": "stream",
     "text": [
      "[ True  True  True  True  True  True  True  True  True  True  True]\n"
     ]
    }
   ],
   "source": [
    "print(df5.columns==df1.columns)"
   ]
  },
  {
   "cell_type": "code",
   "execution_count": null,
   "id": "076ef8e8",
   "metadata": {},
   "outputs": [],
   "source": []
  }
 ],
 "metadata": {
  "kernelspec": {
   "display_name": "Python 3 (ipykernel)",
   "language": "python",
   "name": "python3"
  },
  "language_info": {
   "codemirror_mode": {
    "name": "ipython",
    "version": 3
   },
   "file_extension": ".py",
   "mimetype": "text/x-python",
   "name": "python",
   "nbconvert_exporter": "python",
   "pygments_lexer": "ipython3",
   "version": "3.8.10"
  }
 },
 "nbformat": 4,
 "nbformat_minor": 5
}
