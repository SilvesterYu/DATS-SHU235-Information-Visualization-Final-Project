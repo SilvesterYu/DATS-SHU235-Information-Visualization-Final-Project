{
 "cells": [
  {
   "cell_type": "code",
   "execution_count": 1,
   "id": "e0b62c39",
   "metadata": {},
   "outputs": [],
   "source": [
    "import pandas as pd\n",
    "import csv\n",
    "import json"
   ]
  },
  {
   "cell_type": "code",
   "execution_count": 2,
   "id": "9180fa07",
   "metadata": {},
   "outputs": [
    {
     "data": {
      "text/plain": [
       "'\\ndata = {}\\nwith open(\"2015.csv\") as csvFile:\\n    csvReader = csv.DictReader(csvFile)\\n    for rows in csvReader:\\n        id = rows[\\'Country\\']\\n        data[id] = rows\\n\\nwith open(\"2015.json\", \"w\") as jsonFile:\\n    jsonFile.write(json.dumps(data, indent = 4))\\n    '"
      ]
     },
     "execution_count": 2,
     "metadata": {},
     "output_type": "execute_result"
    }
   ],
   "source": [
    "'''\n",
    "data = {}\n",
    "with open(\"2015.csv\") as csvFile:\n",
    "    csvReader = csv.DictReader(csvFile)\n",
    "    for rows in csvReader:\n",
    "        id = rows['Country']\n",
    "        data[id] = rows\n",
    "\n",
    "with open(\"2015.json\", \"w\") as jsonFile:\n",
    "    jsonFile.write(json.dumps(data, indent = 4))\n",
    "    '''"
   ]
  },
  {
   "cell_type": "code",
   "execution_count": 3,
   "id": "8790a125",
   "metadata": {},
   "outputs": [],
   "source": [
    "df5 = pd.read_csv(\"2015.csv\")\n",
    "df6 = pd.read_csv(\"2016.csv\")\n",
    "df7 = pd.read_csv(\"2017.csv\")\n",
    "df8 = pd.read_csv(\"2018.csv\")\n",
    "df9 = pd.read_csv(\"2019.csv\")\n",
    "df0 = pd.read_csv(\"2020.csv\")\n",
    "df1 = pd.read_csv(\"2021.csv\")\n",
    "df2 = pd.read_csv(\"2022.csv\")\n"
   ]
  },
  {
   "cell_type": "code",
   "execution_count": 4,
   "id": "fb4577ca",
   "metadata": {},
   "outputs": [
    {
     "name": "stdout",
     "output_type": "stream",
     "text": [
      "{'Switzerland': 'Western Europe', 'Iceland': 'Western Europe', 'Denmark': 'Western Europe', 'Norway': 'Western Europe', 'Canada': 'North America', 'Finland': 'Western Europe', 'Netherlands': 'Western Europe', 'Sweden': 'Western Europe', 'New Zealand': 'Australia and New Zealand', 'Australia': 'Australia and New Zealand', 'Israel': 'Middle East and Northern Africa', 'Costa Rica': 'Latin America and Caribbean', 'Austria': 'Western Europe', 'Mexico': 'Latin America and Caribbean', 'United States': 'North America', 'Brazil': 'Latin America and Caribbean', 'Luxembourg': 'Western Europe', 'Ireland': 'Western Europe', 'Belgium': 'Western Europe', 'United Arab Emirates': 'Middle East and Northern Africa', 'United Kingdom': 'Western Europe', 'Oman': 'Middle East and Northern Africa', 'Venezuela': 'Latin America and Caribbean', 'Singapore': 'Southeastern Asia', 'Panama': 'Latin America and Caribbean', 'Germany': 'Western Europe', 'Chile': 'Latin America and Caribbean', 'Qatar': 'Middle East and Northern Africa', 'France': 'Western Europe', 'Argentina': 'Latin America and Caribbean', 'Czech Republic': 'Central and Eastern Europe', 'Uruguay': 'Latin America and Caribbean', 'Colombia': 'Latin America and Caribbean', 'Thailand': 'Southeastern Asia', 'Saudi Arabia': 'Middle East and Northern Africa', 'Spain': 'Western Europe', 'Malta': 'Western Europe', 'Taiwan': 'Eastern Asia', 'Kuwait': 'Middle East and Northern Africa', 'Suriname': 'Latin America and Caribbean', 'Trinidad and Tobago': 'Latin America and Caribbean', 'El Salvador': 'Latin America and Caribbean', 'Guatemala': 'Latin America and Caribbean', 'Uzbekistan': 'Central and Eastern Europe', 'Slovakia': 'Central and Eastern Europe', 'Japan': 'Eastern Asia', 'South Korea': 'Eastern Asia', 'Ecuador': 'Latin America and Caribbean', 'Bahrain': 'Middle East and Northern Africa', 'Italy': 'Western Europe', 'Bolivia': 'Latin America and Caribbean', 'Moldova': 'Central and Eastern Europe', 'Paraguay': 'Latin America and Caribbean', 'Kazakhstan': 'Central and Eastern Europe', 'Slovenia': 'Central and Eastern Europe', 'Lithuania': 'Central and Eastern Europe', 'Nicaragua': 'Latin America and Caribbean', 'Peru': 'Latin America and Caribbean', 'Belarus': 'Central and Eastern Europe', 'Poland': 'Central and Eastern Europe', 'Malaysia': 'Southeastern Asia', 'Croatia': 'Central and Eastern Europe', 'Libya': 'Middle East and Northern Africa', 'Russia': 'Central and Eastern Europe', 'Jamaica': 'Latin America and Caribbean', 'North Cyprus': 'Western Europe', 'Cyprus': 'Western Europe', 'Algeria': 'Middle East and Northern Africa', 'Kosovo': 'Central and Eastern Europe', 'Turkmenistan': 'Central and Eastern Europe', 'Mauritius': 'Sub-Saharan Africa', 'Hong Kong': 'Eastern Asia', 'Estonia': 'Central and Eastern Europe', 'Indonesia': 'Southeastern Asia', 'Vietnam': 'Southeastern Asia', 'Turkey': 'Middle East and Northern Africa', 'Kyrgyzstan': 'Central and Eastern Europe', 'Nigeria': 'Sub-Saharan Africa', 'Bhutan': 'Southern Asia', 'Azerbaijan': 'Central and Eastern Europe', 'Pakistan': 'Southern Asia', 'Jordan': 'Middle East and Northern Africa', 'Montenegro': 'Central and Eastern Europe', 'China': 'Eastern Asia', 'Zambia': 'Sub-Saharan Africa', 'Romania': 'Central and Eastern Europe', 'Serbia': 'Central and Eastern Europe', 'Portugal': 'Western Europe', 'Latvia': 'Central and Eastern Europe', 'Philippines': 'Southeastern Asia', 'Somaliland region': 'Sub-Saharan Africa', 'Morocco': 'Middle East and Northern Africa', 'Macedonia': 'Central and Eastern Europe', 'Mozambique': 'Sub-Saharan Africa', 'Albania': 'Central and Eastern Europe', 'Bosnia and Herzegovina': 'Central and Eastern Europe', 'Lesotho': 'Sub-Saharan Africa', 'Dominican Republic': 'Latin America and Caribbean', 'Laos': 'Southeastern Asia', 'Mongolia': 'Eastern Asia', 'Swaziland': 'Sub-Saharan Africa', 'Greece': 'Western Europe', 'Lebanon': 'Middle East and Northern Africa', 'Hungary': 'Central and Eastern Europe', 'Honduras': 'Latin America and Caribbean', 'Tajikistan': 'Central and Eastern Europe', 'Tunisia': 'Middle East and Northern Africa', 'Palestinian Territories': 'Middle East and Northern Africa', 'Bangladesh': 'Southern Asia', 'Iran': 'Middle East and Northern Africa', 'Ukraine': 'Central and Eastern Europe', 'Iraq': 'Middle East and Northern Africa', 'South Africa': 'Sub-Saharan Africa', 'Ghana': 'Sub-Saharan Africa', 'Zimbabwe': 'Sub-Saharan Africa', 'Liberia': 'Sub-Saharan Africa', 'India': 'Southern Asia', 'Sudan': 'Sub-Saharan Africa', 'Haiti': 'Latin America and Caribbean', 'Congo (Kinshasa)': 'Sub-Saharan Africa', 'Nepal': 'Southern Asia', 'Ethiopia': 'Sub-Saharan Africa', 'Sierra Leone': 'Sub-Saharan Africa', 'Mauritania': 'Sub-Saharan Africa', 'Kenya': 'Sub-Saharan Africa', 'Djibouti': 'Sub-Saharan Africa', 'Armenia': 'Central and Eastern Europe', 'Botswana': 'Sub-Saharan Africa', 'Myanmar': 'Southeastern Asia', 'Georgia': 'Central and Eastern Europe', 'Malawi': 'Sub-Saharan Africa', 'Sri Lanka': 'Southern Asia', 'Cameroon': 'Sub-Saharan Africa', 'Bulgaria': 'Central and Eastern Europe', 'Egypt': 'Middle East and Northern Africa', 'Yemen': 'Middle East and Northern Africa', 'Angola': 'Sub-Saharan Africa', 'Mali': 'Sub-Saharan Africa', 'Congo (Brazzaville)': 'Sub-Saharan Africa', 'Comoros': 'Sub-Saharan Africa', 'Uganda': 'Sub-Saharan Africa', 'Senegal': 'Sub-Saharan Africa', 'Gabon': 'Sub-Saharan Africa', 'Niger': 'Sub-Saharan Africa', 'Cambodia': 'Southeastern Asia', 'Tanzania': 'Sub-Saharan Africa', 'Madagascar': 'Sub-Saharan Africa', 'Central African Republic': 'Sub-Saharan Africa', 'Chad': 'Sub-Saharan Africa', 'Guinea': 'Sub-Saharan Africa', 'Ivory Coast': 'Sub-Saharan Africa', 'Burkina Faso': 'Sub-Saharan Africa', 'Afghanistan': 'Southern Asia', 'Rwanda': 'Sub-Saharan Africa', 'Benin': 'Sub-Saharan Africa', 'Syria': 'Middle East and Northern Africa', 'Burundi': 'Sub-Saharan Africa', 'Togo': 'Sub-Saharan Africa', 'Puerto Rico': 'Latin America and Caribbean', 'Belize': 'Latin America and Caribbean', 'Somalia': 'Sub-Saharan Africa', 'Somaliland Region': 'Sub-Saharan Africa', 'Namibia': 'Sub-Saharan Africa', 'South Sudan': 'Sub-Saharan Africa'}\n"
     ]
    }
   ],
   "source": [
    "regionMap = {}\n",
    "for index, row in df5.iterrows():\n",
    "    c = row[\"Country\"]\n",
    "    r = row[\"Region\"]\n",
    "    regionMap.update({c:r})\n",
    "for index, row in df6.iterrows():\n",
    "    c = row[\"Country\"]\n",
    "    r = row[\"Region\"]\n",
    "    regionMap.update({c:r})\n",
    "    \n",
    "print(regionMap)"
   ]
  },
  {
   "cell_type": "code",
   "execution_count": 5,
   "id": "0bf87935",
   "metadata": {},
   "outputs": [],
   "source": [
    "# add missing regions\n",
    "regionMap.update({\"Taiwan Province of China\":\"Eastern Asia\"})\n",
    "regionMap.update({\"Hong Kong S.A.R., China\":\"Eastern Asia\"})\n",
    "regionMap.update({\"Trinidad & Tobago\":\"Latin America and Caribbean\"})\n",
    "regionMap.update({\"Northern Cyprus\":\"Central and Eastern Europe\"})\n",
    "regionMap.update({\"North Macedonia\":\"Central and Eastern Europe\"})\n",
    "regionMap.update({\"Gambia\":\"Sub-Saharan Africa\"})\n",
    "regionMap.update({\"Hong Kong S.A.R. of China\":\"Eastern Asia\"})\n",
    "regionMap.update({\"Maldives\":\"Sub-Saharan Africa\"})\n",
    "regionMap.update({\"Luxembourg*\":\"Western Europe\"})\n",
    "regionMap.update({\"Congo\":\"Sub-Saharan Africa\"})\n",
    "regionMap.update({\"Eswatini, Kingdom of\":\"Sub-Saharan Africa\"})\n",
    "regionMap.update({\"Czechia\":\"Central and Eastern Europe\"})"
   ]
  },
  {
   "cell_type": "code",
   "execution_count": 6,
   "id": "9d6b780f",
   "metadata": {},
   "outputs": [],
   "source": [
    "df2[\"Country\"] = df2[\"Country\"].apply(lambda x: x.strip(\"*\"))"
   ]
  },
  {
   "cell_type": "code",
   "execution_count": 11,
   "id": "a30f3e78",
   "metadata": {},
   "outputs": [],
   "source": [
    "df7[\"Region\"] = df7[\"Country\"].apply(lambda x: regionMap[x])\n",
    "df8[\"Region\"] = df8[\"Country or region\"].apply(lambda x: regionMap[x])\n",
    "df9[\"Region\"] = df9[\"Country or region\"].apply(lambda x: regionMap[x])\n",
    "df0[\"Region\"] = df0[\"Country name\"].apply(lambda x: regionMap[x])\n",
    "df1[\"Region\"] = df1[\"Country name\"].apply(lambda x: regionMap[x])\n",
    "df2 = df2.dropna()\n",
    "df2[\"Region\"] = df2[\"Country\"].apply(lambda x: regionMap[x])"
   ]
  },
  {
   "cell_type": "code",
   "execution_count": 12,
   "id": "fc9dd97c",
   "metadata": {},
   "outputs": [
    {
     "name": "stdout",
     "output_type": "stream",
     "text": [
      "['Australia and New Zealand', 'Central and Eastern Europe', 'Eastern Asia', 'Latin America and Caribbean', 'Middle East and Northern Africa', 'North America', 'Southeastern Asia', 'Southern Asia', 'Sub-Saharan Africa', 'Western Europe']\n",
      "['Australia and New Zealand', 'Central and Eastern Europe', 'Eastern Asia', 'Latin America and Caribbean', 'Middle East and Northern Africa', 'North America', 'Southeastern Asia', 'Southern Asia', 'Sub-Saharan Africa', 'Western Europe']\n",
      "['Australia and New Zealand', 'Central and Eastern Europe', 'Eastern Asia', 'Latin America and Caribbean', 'Middle East and Northern Africa', 'North America', 'Southeastern Asia', 'Southern Asia', 'Sub-Saharan Africa', 'Western Europe']\n",
      "['Australia and New Zealand', 'Central and Eastern Europe', 'Eastern Asia', 'Latin America and Caribbean', 'Middle East and Northern Africa', 'North America', 'Southeastern Asia', 'Southern Asia', 'Sub-Saharan Africa', 'Western Europe']\n",
      "['Australia and New Zealand', 'Central and Eastern Europe', 'Eastern Asia', 'Latin America and Caribbean', 'Middle East and Northern Africa', 'North America', 'Southeastern Asia', 'Southern Asia', 'Sub-Saharan Africa', 'Western Europe']\n",
      "['Australia and New Zealand', 'Central and Eastern Europe', 'Eastern Asia', 'Latin America and Caribbean', 'Middle East and Northern Africa', 'North America', 'Southeastern Asia', 'Southern Asia', 'Sub-Saharan Africa', 'Western Europe']\n",
      "['Australia and New Zealand', 'Central and Eastern Europe', 'Eastern Asia', 'Latin America and Caribbean', 'Middle East and Northern Africa', 'North America', 'Southeastern Asia', 'Southern Asia', 'Sub-Saharan Africa', 'Western Europe']\n",
      "['Australia and New Zealand', 'Central and Eastern Europe', 'Eastern Asia', 'Latin America and Caribbean', 'Middle East and Northern Africa', 'North America', 'Southeastern Asia', 'Southern Asia', 'Sub-Saharan Africa', 'Western Europe']\n"
     ]
    }
   ],
   "source": [
    "print(sorted(df5.Region.unique()))\n",
    "print(sorted(df6.Region.unique()))\n",
    "print(sorted(df7.Region.unique()))\n",
    "print(sorted(df8.Region.unique()))\n",
    "print(sorted(df9.Region.unique()))\n",
    "print(sorted(df0.Region.unique()))\n",
    "print(sorted(df1.Region.unique()))\n",
    "print(sorted(df2.Region.unique()))"
   ]
  },
  {
   "cell_type": "code",
   "execution_count": 13,
   "id": "7b2fd0d8",
   "metadata": {},
   "outputs": [
    {
     "name": "stdout",
     "output_type": "stream",
     "text": [
      "['Australia and New Zealand', 'Central and Eastern Europe', 'Eastern Asia', 'Latin America and Caribbean', 'Middle East and Northern Africa', 'North America', 'Southeastern Asia', 'Southern Asia', 'Sub-Saharan Africa', 'Western Europe']\n"
     ]
    }
   ],
   "source": [
    "regionList = sorted(df5.Region.unique())\n",
    "print(regionList)"
   ]
  },
  {
   "cell_type": "code",
   "execution_count": 14,
   "id": "50e183c3",
   "metadata": {},
   "outputs": [
    {
     "name": "stdout",
     "output_type": "stream",
     "text": [
      "-------- Australia and New Zealand ----------\n",
      "7.285\n",
      "7.323499999999999\n",
      "7.299000024795535\n",
      "7.298\n",
      "7.2675\n",
      "7.261199951\n",
      "7.23\n",
      "7.181\n",
      "-------- Central and Eastern Europe ----------\n",
      "5.332931034482758\n",
      "5.3706896551724155\n",
      "5.409931034877382\n",
      "5.476333333333333\n",
      "5.566733333333333\n",
      "5.66637930375862\n",
      "5.77051724137931\n",
      "5.868206896551726\n",
      "-------- Eastern Asia ----------\n",
      "5.626166666666666\n",
      "5.624166666666667\n",
      "5.646666606267293\n",
      "5.672000000000001\n",
      "5.688833333333334\n",
      "5.714849948833333\n",
      "5.810333333333333\n",
      "5.876166666666666\n",
      "-------- Latin America and Caribbean ----------\n",
      "6.1446818181818195\n",
      "6.10175\n",
      "5.957818193869158\n",
      "5.950136363636363\n",
      "5.954428571428571\n",
      "5.981785706095237\n",
      "5.908049999999999\n",
      "5.950368421052631\n",
      "-------- Middle East and Northern Africa ----------\n",
      "5.406899999999999\n",
      "5.386052631578948\n",
      "5.369684194263659\n",
      "5.282736842105263\n",
      "5.236999999999999\n",
      "5.227158855058825\n",
      "5.219764705882353\n",
      "5.170117647058824\n",
      "-------- North America ----------\n",
      "7.273\n",
      "7.254\n",
      "7.1545000076293945\n",
      "7.107\n",
      "7.085\n",
      "7.0858500005\n",
      "7.026999999999999\n",
      "7.001\n",
      "-------- Southeastern Asia ----------\n",
      "5.317444444444445\n",
      "5.338888888888889\n",
      "5.444875001907348\n",
      "5.3134444444444435\n",
      "5.273666666666667\n",
      "5.383366690777778\n",
      "5.407555555555556\n",
      "5.431666666666667\n",
      "-------- Southern Asia ----------\n",
      "4.580857142857143\n",
      "4.563285714285714\n",
      "4.628428561346871\n",
      "4.6038571428571435\n",
      "4.526857142857143\n",
      "4.355083266833334\n",
      "4.315833333333333\n",
      "4.2651666666666666\n",
      "-------- Sub-Saharan Africa ----------\n",
      "4.202800000000001\n",
      "4.136421052631578\n",
      "4.111948722448104\n",
      "4.19502564102564\n",
      "4.300050000000001\n",
      "4.40384749175\n",
      "4.513486486486487\n",
      "4.479685714285715\n",
      "-------- Western Europe ----------\n",
      "6.689619047619048\n",
      "6.685666666666665\n",
      "6.703714302607945\n",
      "6.829100000000001\n",
      "6.8984000000000005\n",
      "6.899219036142858\n",
      "6.914904761904763\n",
      "6.895666666666668\n"
     ]
    }
   ],
   "source": [
    "# average happiness score by region\n",
    "for region in regionList:\n",
    "    print(\"--------\", region, \"----------\")\n",
    "    d5 = df5[df5[\"Region\"] == region]\n",
    "    #print(d5)\n",
    "    l5 = d5[\"Happiness Score\"].to_list()\n",
    "    ave5 = sum(l5)/len(l5)\n",
    "    print(ave5)\n",
    "    \n",
    "    d6 = df6[df6[\"Region\"] == region]\n",
    "    l6 = d6[\"Happiness Score\"].to_list()\n",
    "    ave6 = sum(l6)/len(l6)\n",
    "    print(ave6)\n",
    "    \n",
    "    d7 = df7[df7[\"Region\"] == region]\n",
    "    l7 = d7[\"Happiness.Score\"].to_list()\n",
    "    ave7 = sum(l7)/len(l7)\n",
    "    print(ave7)\n",
    "    \n",
    "    d8 = df8[df8[\"Region\"] == region]\n",
    "    l8 = d8[\"Score\"].to_list()\n",
    "    ave8 = sum(l8)/len(l8)\n",
    "    print(ave8)\n",
    "    \n",
    "    d9 = df9[df9[\"Region\"] == region]\n",
    "    l9 = d9[\"Score\"].to_list()\n",
    "    ave9 = sum(l9)/len(l9)\n",
    "    print(ave9)\n",
    "    \n",
    "    d0 = df0[df0[\"Region\"] == region]\n",
    "    l0 = d0[\"Ladder score\"].to_list()\n",
    "    ave0 = sum(l0)/len(l0)\n",
    "    print(ave0)\n",
    "    \n",
    "    d1 = df1[df1[\"Region\"] == region]\n",
    "    l1 = d1[\"Ladder score\"].to_list()\n",
    "    ave1 = sum(l1)/len(l1)\n",
    "    print(ave1)\n",
    "    \n",
    "    d2 = df2[df2[\"Region\"] == region]\n",
    "    l2 = d2[\"Happiness score\"].to_list()\n",
    "    l2 = [float(\".\".join(item.split(\",\"))) for item in l2]\n",
    "    ave2 = sum(l2)/len(l2)\n",
    "    print(ave2)"
   ]
  },
  {
   "cell_type": "code",
   "execution_count": null,
   "id": "076ef8e8",
   "metadata": {},
   "outputs": [],
   "source": []
  }
 ],
 "metadata": {
  "kernelspec": {
   "display_name": "Python 3 (ipykernel)",
   "language": "python",
   "name": "python3"
  },
  "language_info": {
   "codemirror_mode": {
    "name": "ipython",
    "version": 3
   },
   "file_extension": ".py",
   "mimetype": "text/x-python",
   "name": "python",
   "nbconvert_exporter": "python",
   "pygments_lexer": "ipython3",
   "version": "3.8.10"
  }
 },
 "nbformat": 4,
 "nbformat_minor": 5
}
